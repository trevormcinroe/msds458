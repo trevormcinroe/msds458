{
 "cells": [
  {
   "cell_type": "code",
   "execution_count": 1,
   "metadata": {},
   "outputs": [],
   "source": [
    "import tensorflow as tf\n",
    "import numpy as np\n",
    "from tensorflow.keras.layers import Conv2D, BatchNormalization, Dense, MaxPooling2D, Flatten, Dropout, GlobalAveragePooling2D\n",
    "from tensorflow.keras.callbacks import ModelCheckpoint\n",
    "import os\n",
    "import math\n",
    "import string\n",
    "import collections\n",
    "import matplotlib.pyplot as plt\n",
    "import pathlib\n",
    "from collections import defaultdict\n",
    "import pickle "
   ]
  },
  {
   "cell_type": "code",
   "execution_count": null,
   "metadata": {},
   "outputs": [],
   "source": [
    "AUTO = tf.data.experimental.AUTOTUNE\n",
    "lrelu = tf.keras.layers.LeakyReLU(alpha=0.1)"
   ]
  },
  {
   "cell_type": "markdown",
   "metadata": {},
   "source": [
    "# Data"
   ]
  },
  {
   "cell_type": "code",
   "execution_count": null,
   "metadata": {},
   "outputs": [],
   "source": [
    "image_dir = './data/1864_33884_upload_images/'\n",
    "classes = os.listdir(image_dir)\n",
    "classes_dict = {\n",
    "    classes[x]: x\n",
    "    for x in range(len(classes))\n",
    "}\n",
    "\n",
    "data_dir = pathlib.Path(image_dir)\n",
    "\n",
    "list_ds = tf.data.Dataset.list_files(str(data_dir/'*/*'))"
   ]
  },
  {
   "cell_type": "code",
   "execution_count": null,
   "metadata": {},
   "outputs": [],
   "source": [
    "image_count = 0\n",
    "for c in classes:\n",
    "    for _ in range(len(os.listdir(image_dir + c))):\n",
    "        image_count += 1"
   ]
  },
  {
   "cell_type": "code",
   "execution_count": null,
   "metadata": {},
   "outputs": [],
   "source": [
    "def get_label(file_path):\n",
    "    # convert the path to a list of path components\n",
    "    parts = tf.strings.split(file_path, os.path.sep)\n",
    "    \n",
    "    # The second to last is the class-directory\n",
    "    t = parts[-2] == classes\n",
    "    t = tf.cast(t, dtype=tf.int32)\n",
    "    return t\n",
    "\n",
    "def decode_img(img):\n",
    "    # convert the compressed string to a 3D uint8 tensor\n",
    "    img = tf.image.decode_jpeg(img, channels=3)\n",
    "    # Use `convert_image_dtype` to convert to floats in the [0,1] range.\n",
    "    img = tf.image.convert_image_dtype(img, tf.float32)\n",
    "    # resize the image to the desired size.\n",
    "    return tf.image.resize(img, [INPUT_SHAPE[0], INPUT_SHAPE[1]])\n",
    "\n",
    "def process_path(file_path):\n",
    "    label = get_label(file_path)\n",
    "\n",
    "    # load the raw data from the file as a string\n",
    "    img = tf.io.read_file(file_path)\n",
    "    img = decode_img(img)\n",
    "    return img, label\n",
    "\n",
    "def prepare_for_training(ds, batch_size, train=None, cache=False, shuffle_buffer_size=1000):\n",
    "    # This is a small dataset, only load it once, and keep it in memory.\n",
    "    # use `.cache(filename)` to cache preprocessing work for datasets that don't\n",
    "    # fit in memory.\n",
    "    if cache:\n",
    "        if isinstance(cache, str):\n",
    "            ds = ds.cache(cache)\n",
    "        else:\n",
    "            ds = ds.cache()\n",
    "    \n",
    "    if train:\n",
    "        ds = ds.shuffle(buffer_size=shuffle_buffer_size)\n",
    "\n",
    "    ds = ds.batch(batch_size)\n",
    "\n",
    "    # `prefetch` lets the dataset fetch batches in the background while the model\n",
    "    # is training.\n",
    "    ds = ds.prefetch(buffer_size=AUTO)\n",
    "    \n",
    "    ds = ds.repeat()\n",
    "\n",
    "    return ds\n"
   ]
  },
  {
   "cell_type": "code",
   "execution_count": null,
   "metadata": {},
   "outputs": [],
   "source": [
    "INPUT_SHAPE = (128, 128, 3)\n",
    "BATCH_SIZE = 32\n",
    "STEPS_PER_EPOCH = image_count // BATCH_SIZE\n",
    "\n",
    "labeled_ds = list_ds.map(process_path, num_parallel_calls=AUTO)\n",
    "train_ds = prepare_for_training(labeled_ds, BATCH_SIZE, train=True)"
   ]
  },
  {
   "cell_type": "code",
   "execution_count": null,
   "metadata": {},
   "outputs": [],
   "source": [
    "def augmentation(image, labels):\n",
    "    image = tf.image.resize(image, size=(128, 128))\n",
    "    return image, labels"
   ]
  },
  {
   "cell_type": "markdown",
   "metadata": {},
   "source": [
    "# Models"
   ]
  },
  {
   "cell_type": "markdown",
   "metadata": {},
   "source": [
    "### YoloV1-Tiny"
   ]
  },
  {
   "cell_type": "code",
   "execution_count": null,
   "metadata": {},
   "outputs": [],
   "source": [
    "def build_yolov1_tiny(initalization, batchnorm):\n",
    "    if batchnorm:\n",
    "        model = yolov1_tiny_bn = tf.keras.Sequential([\n",
    "            Conv2D(input_shape=INPUT_SHAPE, filters=16, kernel_size=(3, 3), \n",
    "                   strides=(1, 1), padding='same', activation=lrelu, kernel_initializer=initalization),\n",
    "            BatchNormalization(),\n",
    "            MaxPooling2D(pool_size=(2, 2), strides=(2, 2)),\n",
    "            Conv2D(filters=32, kernel_size=(3, 3), strides=(1, 1), \n",
    "                   padding='same', activation=lrelu, kernel_initializer=initalization),\n",
    "            BatchNormalization(),\n",
    "            MaxPooling2D(pool_size=(2, 2), strides=(2, 2)),\n",
    "            Conv2D(filters=64, kernel_size=(3, 3), strides=(1, 1), \n",
    "                   padding='same', activation=lrelu, kernel_initializer=initalization),\n",
    "            BatchNormalization(),\n",
    "            MaxPooling2D(pool_size=(2, 2), strides=(2, 2)),\n",
    "            Conv2D(filters=128, kernel_size=(3, 3), strides=(1, 1), \n",
    "                   padding='same', activation=lrelu, kernel_initializer=initalization),\n",
    "            BatchNormalization(),\n",
    "            MaxPooling2D(pool_size=(2, 2), strides=(2, 2)),\n",
    "            Conv2D(filters=256, kernel_size=(3, 3), strides=(1, 1), \n",
    "                   padding='same', activation=lrelu, kernel_initializer=initalization),\n",
    "            BatchNormalization(),\n",
    "            MaxPooling2D(pool_size=(2, 2), strides=(2, 2)),\n",
    "            Conv2D(filters=512, kernel_size=(3, 3), strides=(1, 1), \n",
    "                   padding='same', activation=lrelu, kernel_initializer=initalization),\n",
    "            BatchNormalization(),\n",
    "            MaxPooling2D(pool_size=(2, 2), strides=(2, 2)),\n",
    "            Conv2D(filters=1024, kernel_size=(3, 3), strides=(1, 1), \n",
    "                   padding='same', activation=lrelu, kernel_initializer=initalization),\n",
    "            BatchNormalization(),\n",
    "            Conv2D(filters=256, kernel_size=(3, 3), strides=(1, 1), \n",
    "                   padding='same', activation=lrelu, kernel_initializer=initalization),\n",
    "            BatchNormalization(),\n",
    "            Flatten(),\n",
    "            Dense(1470, kernel_initializer=initalization),\n",
    "            Dense(101, kernel_initializer=initalization, activation='softmax')\n",
    "        ])\n",
    "        \n",
    "        return model\n",
    "    \n",
    "    else:\n",
    "        model = yolov1_tiny_bn = tf.keras.Sequential([\n",
    "            Conv2D(input_shape=INPUT_SHAPE, filters=16, kernel_size=(3, 3), \n",
    "                   strides=(1, 1), padding='same', activation=lrelu, kernel_initializer=initalization),\n",
    "            MaxPooling2D(pool_size=(2, 2), strides=(2, 2)),\n",
    "            Conv2D(filters=32, kernel_size=(3, 3), strides=(1, 1), \n",
    "                   padding='same', activation=lrelu, kernel_initializer=initalization),\n",
    "            MaxPooling2D(pool_size=(2, 2), strides=(2, 2)),\n",
    "            Conv2D(filters=64, kernel_size=(3, 3), strides=(1, 1), \n",
    "                   padding='same', activation=lrelu, kernel_initializer=initalization),\n",
    "            MaxPooling2D(pool_size=(2, 2), strides=(2, 2)),\n",
    "            Conv2D(filters=128, kernel_size=(3, 3), strides=(1, 1), \n",
    "                   padding='same', activation=lrelu, kernel_initializer=initalization),\n",
    "            MaxPooling2D(pool_size=(2, 2), strides=(2, 2)),\n",
    "            Conv2D(filters=256, kernel_size=(3, 3), strides=(1, 1), \n",
    "                   padding='same', activation=lrelu, kernel_initializer=initalization),\n",
    "            MaxPooling2D(pool_size=(2, 2), strides=(2, 2)),\n",
    "            Conv2D(filters=512, kernel_size=(3, 3), strides=(1, 1), \n",
    "                   padding='same', activation=lrelu, kernel_initializer=initalization),\n",
    "            MaxPooling2D(pool_size=(2, 2), strides=(2, 2)),\n",
    "            Conv2D(filters=1024, kernel_size=(3, 3), strides=(1, 1), \n",
    "                   padding='same', activation=lrelu, kernel_initializer=initalization),\n",
    "            Conv2D(filters=256, kernel_size=(3, 3), strides=(1, 1), \n",
    "                   padding='same', activation=lrelu, kernel_initializer=initalization),\n",
    "            Flatten(),\n",
    "            Dense(1470, kernel_initializer=initalization),\n",
    "            Dense(101, kernel_initializer=initalization, activation='softmax')\n",
    "        ])\n",
    "        \n",
    "        return model\n",
    "        "
   ]
  },
  {
   "cell_type": "markdown",
   "metadata": {},
   "source": [
    "#### Training loop: please alter lines 8 (initializer) and 10 (batchnorm)"
   ]
  },
  {
   "cell_type": "code",
   "execution_count": null,
   "metadata": {
    "scrolled": true
   },
   "outputs": [],
   "source": [
    "yolov1_tiny_bn_results = defaultdict()\n",
    "\n",
    "for n in range(3):\n",
    "    seed = np.random.randint(1111)\n",
    "    yolov1_tiny_bn_results[n] = defaultdict()\n",
    "    yolov1_tiny_bn_results[n]['seed'] = seed\n",
    "    \n",
    "    he_norm = tf.keras.initializers.he_normal(seed)\n",
    "    \n",
    "    yolov1_tiny_bn = build_yolov1_tiny(initalization=he_norm, batchnorm=False)\n",
    "    \n",
    "    yolov1_tiny_bn.compile(optimizer='adam', loss='categorical_crossentropy', metrics=['categorical_accuracy'])\n",
    "    \n",
    "    history = yolov1_tiny_bn.fit(\n",
    "        train_ds,\n",
    "        epochs=50,\n",
    "        steps_per_epoch=STEPS_PER_EPOCH\n",
    "    )\n",
    "    \n",
    "    yolov1_tiny_bn_results[n]['loss'] = history.history['loss']\n",
    "    yolov1_tiny_bn_results[n]['acc'] = history.history['categorical_accuracy']"
   ]
  },
  {
   "cell_type": "code",
   "execution_count": null,
   "metadata": {},
   "outputs": [],
   "source": [
    "with open('./results/tiny_yolo_no_saxe', 'wb') as handle:\n",
    "    pickle.dump(yolov1_tiny_bn_results, handle, protocol=pickle.HIGHEST_PROTOCOL)"
   ]
  },
  {
   "cell_type": "code",
   "execution_count": null,
   "metadata": {},
   "outputs": [],
   "source": [
    "del yolov1_tiny_bn"
   ]
  },
  {
   "cell_type": "markdown",
   "metadata": {},
   "source": [
    "# ResNet26"
   ]
  },
  {
   "cell_type": "code",
   "execution_count": null,
   "metadata": {},
   "outputs": [],
   "source": [
    "class BasicBlockBN(tf.keras.layers.Layer):\n",
    "\n",
    "    def __init__(self, filter_num, initializer, stride=1):\n",
    "        super(BasicBlockBN, self).__init__()\n",
    "        self.conv1 = tf.keras.layers.Conv2D(filters=filter_num,\n",
    "                                            kernel_size=(3, 3),\n",
    "                                            strides=stride,\n",
    "                                            padding=\"same\",\n",
    "                                            kernel_initializer=initializer,\n",
    "                                            activation='relu')\n",
    "        self.bn1 = tf.keras.layers.BatchNormalization()\n",
    "        self.conv2 = tf.keras.layers.Conv2D(filters=filter_num,\n",
    "                                            kernel_size=(3, 3),\n",
    "                                            strides=1,\n",
    "                                            padding=\"same\",\n",
    "                                            kernel_initializer=initializer,\n",
    "                                            activation='relu')\n",
    "        self.bn2 = tf.keras.layers.BatchNormalization()\n",
    "        if stride != 1:\n",
    "            self.downsample = tf.keras.Sequential()\n",
    "            self.downsample.add(tf.keras.layers.Conv2D(filters=filter_num,\n",
    "                                                       kernel_size=(1, 1),\n",
    "                                                       strides=stride,\n",
    "                                                       kernel_initializer=initializer,\n",
    "                                                       activation='relu'))\n",
    "            self.downsample.add(tf.keras.layers.BatchNormalization())\n",
    "        else:\n",
    "            self.downsample = lambda x: x\n",
    "\n",
    "    def call(self, inputs, training=None):\n",
    "        residual = self.downsample(inputs)\n",
    "\n",
    "        x = self.conv1(inputs)\n",
    "        x = self.bn1(x, training=training)\n",
    "        x = tf.nn.relu(x)\n",
    "        x = self.conv2(x)\n",
    "        x = self.bn2(x, training=training)\n",
    "\n",
    "        output = tf.nn.relu(tf.keras.layers.add([residual, x]))\n",
    "\n",
    "        return output\n",
    "    \n",
    "class BasicBlockNO(tf.keras.layers.Layer):\n",
    "\n",
    "    def __init__(self, filter_num, initializer, stride=1):\n",
    "        super(BasicBlockNO, self).__init__()\n",
    "        self.conv1 = tf.keras.layers.Conv2D(filters=filter_num,\n",
    "                                            kernel_size=(3, 3),\n",
    "                                            strides=stride,\n",
    "                                            padding=\"same\",\n",
    "                                            kernel_initializer=initializer,\n",
    "                                            activation='relu')\n",
    "        self.conv2 = tf.keras.layers.Conv2D(filters=filter_num,\n",
    "                                            kernel_size=(3, 3),\n",
    "                                            strides=1,\n",
    "                                            padding=\"same\",\n",
    "                                            kernel_initializer=initializer,\n",
    "                                            activation='relu')\n",
    "        if stride != 1:\n",
    "            self.downsample = tf.keras.Sequential()\n",
    "            self.downsample.add(tf.keras.layers.Conv2D(filters=filter_num,\n",
    "                                                       kernel_size=(1, 1),\n",
    "                                                       strides=stride,\n",
    "                                                       kernel_initializer=initializer,\n",
    "                                                       activation='relu'))\n",
    "        else:\n",
    "            self.downsample = lambda x: x\n",
    "\n",
    "    def call(self, inputs, training=None):\n",
    "        residual = self.downsample(inputs)\n",
    "\n",
    "        x = self.conv1(inputs)\n",
    "        x = tf.nn.relu(x)\n",
    "        x = self.conv2(x)\n",
    "\n",
    "        output = tf.nn.relu(tf.keras.layers.add([residual, x]))\n",
    "\n",
    "        return output\n",
    "\n",
    "def make_basic_block_layer(filter_num, blocks, initializer, batchnorm, stride=1):\n",
    "    res_block = tf.keras.Sequential()\n",
    "    \n",
    "    if batchnorm:\n",
    "        res_block.add(BasicBlockBN(filter_num, stride=stride, initializer=initializer))\n",
    "\n",
    "        for _ in range(1, blocks):\n",
    "            res_block.add(BasicBlockBN(filter_num, stride=1, initializer=initializer))\n",
    "\n",
    "        return res_block\n",
    "    \n",
    "    else:\n",
    "        res_block.add(BasicBlockNO(filter_num, stride=stride, initializer=initializer))\n",
    "        \n",
    "        for _ in range(1, blocks):\n",
    "            res_block.add(BasicBlockNO(filter_num, stride=1, initializer=initializer))\n",
    "            \n",
    "        return res_block"
   ]
  },
  {
   "cell_type": "code",
   "execution_count": null,
   "metadata": {},
   "outputs": [],
   "source": [
    "def build_resnet26(initializer, batchnorm):\n",
    "    model = tf.keras.Sequential([\n",
    "        Conv2D(input_shape=INPUT_SHAPE, filters=64, kernel_size=(7, 7), \n",
    "               strides=2, padding='same', kernel_initializer=initializer, activation='relu'),\n",
    "        BatchNormalization(),\n",
    "        MaxPooling2D(pool_size=(2, 2), strides=2, padding='same'),\n",
    "\n",
    "        # Each one of these is 2 BasicBlock\n",
    "        make_basic_block_layer(filter_num=64, blocks=2, stride=2, \n",
    "                               initializer=initializer, batchnorm=batchnorm),\n",
    "        make_basic_block_layer(filter_num=128, blocks=2, stride=2, \n",
    "                               initializer=initializer, batchnorm=batchnorm),\n",
    "        make_basic_block_layer(filter_num=256, blocks=2, stride=2, \n",
    "                               initializer=initializer, batchnorm=batchnorm),\n",
    "        make_basic_block_layer(filter_num=512, blocks=2, stride=2, \n",
    "                               initializer=initializer, batchnorm=batchnorm),\n",
    "        GlobalAveragePooling2D(),\n",
    "        Dense(101, kernel_initializer=initializer, activation='softmax')\n",
    "\n",
    "    ])\n",
    "\n",
    "    return model"
   ]
  },
  {
   "cell_type": "markdown",
   "metadata": {},
   "source": [
    "#### Training loop: please alter lines 8 (initializer) and 10 (batchnorm)"
   ]
  },
  {
   "cell_type": "code",
   "execution_count": null,
   "metadata": {
    "scrolled": true
   },
   "outputs": [],
   "source": [
    "resnet_bn_results = defaultdict()\n",
    "\n",
    "for n in range(3):\n",
    "    seed = np.random.randint(1111)\n",
    "    resnet_bn_results[n] = defaultdict()\n",
    "    resnet_bn_results[n]['seed'] = seed\n",
    "    \n",
    "    he_norm = tf.keras.initializers.he_normal(seed)\n",
    "    \n",
    "    resnet = build_resnet26(initializer=he_norm, batchnorm=True)\n",
    "    \n",
    "    resnet.compile(optimizer='adam', loss='categorical_crossentropy', metrics=['categorical_accuracy'])\n",
    "    \n",
    "    history = resnet.fit(\n",
    "        train_ds,\n",
    "        epochs=50,\n",
    "        steps_per_epoch=STEPS_PER_EPOCH\n",
    "    )\n",
    "    \n",
    "    resnet_bn_results[n]['loss'] = history.history['loss']\n",
    "    resnet_bn_results[n]['acc'] = history.history['categorical_accuracy']"
   ]
  },
  {
   "cell_type": "code",
   "execution_count": null,
   "metadata": {},
   "outputs": [],
   "source": [
    "with open('./results/resnet_bn_he', 'wb') as handle:\n",
    "    pickle.dump(resnet_bn_results, handle, protocol=pickle.HIGHEST_PROTOCOL)"
   ]
  },
  {
   "cell_type": "code",
   "execution_count": null,
   "metadata": {
    "scrolled": true
   },
   "outputs": [],
   "source": [
    "resnet_bn_results = defaultdict()\n",
    "\n",
    "for n in range(3):\n",
    "    seed = np.random.randint(1111)\n",
    "    resnet_bn_results[n] = defaultdict()\n",
    "    resnet_bn_results[n]['seed'] = seed\n",
    "    \n",
    "    he_norm = tf.keras.initializers.he_normal(seed)\n",
    "    \n",
    "    resnet = build_resnet26(initializer=he_norm, batchnorm=False)\n",
    "    \n",
    "    resnet.compile(optimizer='adam', loss='categorical_crossentropy', metrics=['categorical_accuracy'])\n",
    "    \n",
    "    history = resnet.fit(\n",
    "        train_ds,\n",
    "        epochs=50,\n",
    "        steps_per_epoch=STEPS_PER_EPOCH\n",
    "    )\n",
    "    \n",
    "    resnet_bn_results[n]['loss'] = history.history['loss']\n",
    "    resnet_bn_results[n]['acc'] = history.history['categorical_accuracy']"
   ]
  },
  {
   "cell_type": "code",
   "execution_count": null,
   "metadata": {},
   "outputs": [],
   "source": [
    "with open('./results/resnet_no_he', 'wb') as handle:\n",
    "    pickle.dump(resnet_bn_results, handle, protocol=pickle.HIGHEST_PROTOCOL)"
   ]
  },
  {
   "cell_type": "markdown",
   "metadata": {},
   "source": [
    "### Compiling the results"
   ]
  },
  {
   "cell_type": "code",
   "execution_count": 2,
   "metadata": {},
   "outputs": [],
   "source": [
    "result_files = [\n",
    "    './results/tiny_yolo_bn_glorot',\n",
    "    './results/tiny_yolo_no_glorot',\n",
    "    './results/tiny_yolo_bn_he',\n",
    "    './results/tiny_yolo_no_he',\n",
    "    './results/resnet_bn_glorot',\n",
    "    './results/resnet_no_glorot',\n",
    "    './results/resnet_bn_he',\n",
    "    './results/resnet_no_he'\n",
    "]\n",
    "\n",
    "compiled_results = defaultdict()\n",
    "\n",
    "for file in result_files:\n",
    "#     compiled_results[file] = defaultdict()\n",
    "    with (open(file, \"rb\")) as openfile:\n",
    "        compiled_results[file] = pickle.load(openfile)"
   ]
  },
  {
   "cell_type": "code",
   "execution_count": null,
   "metadata": {},
   "outputs": [],
   "source": [
    "compiled_results.keys()"
   ]
  },
  {
   "cell_type": "code",
   "execution_count": null,
   "metadata": {
    "scrolled": true
   },
   "outputs": [],
   "source": [
    "compiled_results[result_files[0]][0]"
   ]
  },
  {
   "cell_type": "markdown",
   "metadata": {},
   "source": [
    "#### Tiny-Yolo BN"
   ]
  },
  {
   "cell_type": "code",
   "execution_count": 3,
   "metadata": {},
   "outputs": [],
   "source": [
    "ty_bn = ['./results/tiny_yolo_bn_glorot','./results/tiny_yolo_bn_he']\n",
    "\n",
    "ty_bn_g = compiled_results[ty_bn[0]]\n",
    "\n",
    "ty_bn_g_acc = list()\n",
    "for iteration in ty_bn_g.keys():\n",
    "    ty_bn_g_acc.append(ty_bn_g[iteration]['acc'])    \n",
    "\n",
    "ty_bn_h = compiled_results[ty_bn[1]]\n",
    "\n",
    "ty_bn_h_acc = list()\n",
    "for iteration in ty_bn_g.keys():\n",
    "    ty_bn_h_acc.append(ty_bn_h[iteration]['acc'][:50]) # started out at 100 iters per"
   ]
  },
  {
   "cell_type": "code",
   "execution_count": 4,
   "metadata": {},
   "outputs": [
    {
     "data": {
      "image/png": "[encoded data removed]",
      "text/plain": [
       "<Figure size 432x288 with 1 Axes>"
      ]
     },
     "metadata": {
      "needs_background": "light"
     },
     "output_type": "display_data"
    }
   ],
   "source": [
    "plt.plot(np.mean(ty_bn_g_acc, axis=0))\n",
    "plt.fill_between([x for x in range(50)], \n",
    "                 np.min(ty_bn_g_acc, axis=0), \n",
    "                 np.max(ty_bn_g_acc, axis=0), alpha=0.2)\n",
    "\n",
    "plt.plot(np.mean(ty_bn_h_acc, axis=0))\n",
    "plt.fill_between([x for x in range(50)], \n",
    "                 np.min(ty_bn_h_acc, axis=0), \n",
    "                 np.max(ty_bn_h_acc, axis=0), alpha=0.2)\n",
    "\n",
    "plt.title('Accuracy of Tiny-YOLO (Batch Norm)')\n",
    "plt.legend(['Glorot', 'He'])\n",
    "plt.ylabel('Accuracy')\n",
    "plt.xlabel('Epoch')\n",
    "plt.savefig('./results/ty_bn.png', dpi=400)"
   ]
  },
  {
   "cell_type": "markdown",
   "metadata": {},
   "source": [
    "#### Tiny-Tolo NO"
   ]
  },
  {
   "cell_type": "code",
   "execution_count": 5,
   "metadata": {},
   "outputs": [],
   "source": [
    "ty_bn = ['./results/tiny_yolo_no_glorot','./results/tiny_yolo_no_he']\n",
    "\n",
    "ty_bn_g = compiled_results[ty_bn[0]]\n",
    "\n",
    "ty_bn_g_acc = list()\n",
    "for iteration in ty_bn_g.keys():\n",
    "    ty_bn_g_acc.append(ty_bn_g[iteration]['acc'])    \n",
    "\n",
    "ty_bn_h = compiled_results[ty_bn[1]]\n",
    "\n",
    "ty_bn_h_acc = list()\n",
    "for iteration in ty_bn_g.keys():\n",
    "    ty_bn_h_acc.append(ty_bn_h[iteration]['acc'][:50]) # started out at 100 iters per"
   ]
  },
  {
   "cell_type": "code",
   "execution_count": 6,
   "metadata": {},
   "outputs": [
    {
     "data": {
      "image/png": "[encoded data removed]",
      "text/plain": [
       "<Figure size 432x288 with 1 Axes>"
      ]
     },
     "metadata": {
      "needs_background": "light"
     },
     "output_type": "display_data"
    }
   ],
   "source": [
    "plt.plot(np.mean(ty_bn_g_acc, axis=0))\n",
    "plt.fill_between([x for x in range(50)], \n",
    "                 np.min(ty_bn_g_acc, axis=0), \n",
    "                 np.max(ty_bn_g_acc, axis=0), alpha=0.2)\n",
    "\n",
    "plt.plot(np.mean(ty_bn_h_acc, axis=0))\n",
    "plt.fill_between([x for x in range(50)], \n",
    "                 np.min(ty_bn_h_acc, axis=0), \n",
    "                 np.max(ty_bn_h_acc, axis=0), alpha=0.2)\n",
    "\n",
    "plt.title('Accuracy of Tiny-YOLO (No Batch Norm)')\n",
    "plt.legend(['Glorot', 'He'], loc=2)\n",
    "plt.ylabel('Accuracy')\n",
    "plt.xlabel('Epoch')\n",
    "plt.ylim(0, 1)\n",
    "plt.savefig('./results/ty_no.png', dpi=400)"
   ]
  },
  {
   "cell_type": "markdown",
   "metadata": {},
   "source": [
    "#### ResNet BN"
   ]
  },
  {
   "cell_type": "code",
   "execution_count": 7,
   "metadata": {},
   "outputs": [],
   "source": [
    "ty_bn = ['./results/resnet_bn_glorot','./results/resnet_bn_he']\n",
    "\n",
    "ty_bn_g = compiled_results[ty_bn[0]]\n",
    "\n",
    "ty_bn_g_acc = list()\n",
    "for iteration in ty_bn_g.keys():\n",
    "    ty_bn_g_acc.append(ty_bn_g[iteration]['acc'])    \n",
    "\n",
    "ty_bn_h = compiled_results[ty_bn[1]]\n",
    "\n",
    "ty_bn_h_acc = list()\n",
    "for iteration in ty_bn_g.keys():\n",
    "    ty_bn_h_acc.append(ty_bn_h[iteration]['acc'][:50]) # started out at 100 iters per"
   ]
  },
  {
   "cell_type": "code",
   "execution_count": 8,
   "metadata": {},
   "outputs": [
    {
     "data": {
      "image/png": "[encoded data removed]",
      "text/plain": [
       "<Figure size 432x288 with 1 Axes>"
      ]
     },
     "metadata": {
      "needs_background": "light"
     },
     "output_type": "display_data"
    }
   ],
   "source": [
    "plt.plot(np.mean(ty_bn_g_acc, axis=0))\n",
    "plt.fill_between([x for x in range(50)], \n",
    "                 np.min(ty_bn_g_acc, axis=0), \n",
    "                 np.max(ty_bn_g_acc, axis=0), alpha=0.2)\n",
    "\n",
    "plt.plot(np.mean(ty_bn_h_acc, axis=0))\n",
    "plt.fill_between([x for x in range(50)], \n",
    "                 np.min(ty_bn_h_acc, axis=0), \n",
    "                 np.max(ty_bn_h_acc, axis=0), alpha=0.2)\n",
    "\n",
    "plt.title('Accuracy of ResNet18 (Batch Norm)')\n",
    "plt.legend(['Glorot', 'He'])\n",
    "plt.ylabel('Accuracy')\n",
    "plt.xlabel('Epoch')\n",
    "plt.ylim(0, 1)\n",
    "plt.savefig('./results/res_bn.png', dpi=400)"
   ]
  },
  {
   "cell_type": "markdown",
   "metadata": {},
   "source": [
    "#### ResNet NO"
   ]
  },
  {
   "cell_type": "code",
   "execution_count": 9,
   "metadata": {},
   "outputs": [],
   "source": [
    "ty_bn = ['./results/resnet_no_glorot','./results/resnet_no_he']\n",
    "\n",
    "ty_bn_g = compiled_results[ty_bn[0]]\n",
    "\n",
    "ty_bn_g_acc = list()\n",
    "for iteration in ty_bn_g.keys():\n",
    "    ty_bn_g_acc.append(ty_bn_g[iteration]['acc'])    \n",
    "\n",
    "ty_bn_h = compiled_results[ty_bn[1]]\n",
    "\n",
    "ty_bn_h_acc = list()\n",
    "for iteration in ty_bn_g.keys():\n",
    "    ty_bn_h_acc.append(ty_bn_h[iteration]['acc'][:50]) # started out at 100 iters per"
   ]
  },
  {
   "cell_type": "code",
   "execution_count": 10,
   "metadata": {},
   "outputs": [
    {
     "data": {
      "image/png": "[encoded data removed]",
      "text/plain": [
       "<Figure size 432x288 with 1 Axes>"
      ]
     },
     "metadata": {
      "needs_background": "light"
     },
     "output_type": "display_data"
    }
   ],
   "source": [
    "plt.plot(np.mean(ty_bn_g_acc, axis=0))\n",
    "plt.fill_between([x for x in range(50)], \n",
    "                 np.min(ty_bn_g_acc, axis=0), \n",
    "                 np.max(ty_bn_g_acc, axis=0), alpha=0.2)\n",
    "\n",
    "plt.plot(np.mean(ty_bn_h_acc, axis=0))\n",
    "plt.fill_between([x for x in range(50)], \n",
    "                 np.min(ty_bn_h_acc, axis=0), \n",
    "                 np.max(ty_bn_h_acc, axis=0), alpha=0.2)\n",
    "\n",
    "plt.title('Accuracy of ResNet18 (No Batch Norm)')\n",
    "plt.legend(['Glorot', 'He'])\n",
    "plt.ylabel('Accuracy')\n",
    "plt.xlabel('Epoch')\n",
    "plt.ylim(0, 1)\n",
    "plt.savefig('./results/res_no.png', dpi=400)"
   ]
  },
  {
   "cell_type": "code",
   "execution_count": null,
   "metadata": {},
   "outputs": [],
   "source": []
  }
 ],
 "metadata": {
  "kernelspec": {
   "display_name": "Python 3",
   "language": "python",
   "name": "python3"
  },
  "language_info": {
   "codemirror_mode": {
    "name": "ipython",
    "version": 3
   },
   "file_extension": ".py",
   "mimetype": "text/x-python",
   "name": "python",
   "nbconvert_exporter": "python",
   "pygments_lexer": "ipython3",
   "version": "3.7.5"
  }
 },
 "nbformat": 4,
 "nbformat_minor": 2
}
